{
 "cells": [
  {
   "cell_type": "code",
   "execution_count": 7,
   "id": "66b8c09e-604b-4410-8ff6-96617dffc531",
   "metadata": {},
   "outputs": [
    {
     "data": {
      "text/plain": [
       "'\\nPrograma: Calculo de salário de professor.\\nDescrição: Calcule o salário de um professor horista na Universidade XYZ. O programa deve perguntar o número de horas trabalhadas, calcular e imprimir na tela o valor do salário bruto,\\ndo salário líquido e do total de descontos, sabendo que o desconto do imposto é 30% e que o valor da hora-aula é R$ 40,00.\\nAutor: Leandra Arruda de Oliveira\\nData: 27/02/2025\\nVersão: 0.0.1\\n'"
      ]
     },
     "execution_count": 7,
     "metadata": {},
     "output_type": "execute_result"
    }
   ],
   "source": [
    "\"\"\"\n",
    "Programa: Calculo de salário de professor.\n",
    "Descrição: Calcule o salário de um professor horista na Universidade XYZ. O programa deve perguntar o número de horas trabalhadas, calcular e imprimir na tela o valor do salário bruto,\n",
    "do salário líquido e do total de descontos, sabendo que o desconto do imposto é 30% e que o valor da hora-aula é R$ 40,00.\n",
    "Autor: Leandra Arruda de Oliveira\n",
    "Data: 27/02/2025\n",
    "Versão: 0.0.1\n",
    "\"\"\"\n"
   ]
  },
  {
   "cell_type": "code",
   "execution_count": 99,
   "id": "2da42c08-5ab0-46c4-9445-6c1e8163a683",
   "metadata": {},
   "outputs": [],
   "source": [
    "# Alocação de memória\n",
    "\n",
    "horas_trabalhadas = 0\n",
    "valor_hora_aula = 0\n",
    "valor_impostos = 0\n",
    "salario_bruto = 0\n",
    "salario_liquido = 0\n",
    "total_dos_descontos = 0\n",
    "resultado = 0\n"
   ]
  },
  {
   "cell_type": "code",
   "execution_count": 162,
   "id": "028296f1-f6d3-4a9d-8035-df93abffe9b9",
   "metadata": {},
   "outputs": [],
   "source": [
    "# Entrada de dados\n",
    "horas_trabalhadas = \"\"\n",
    "frase_1 = \"\"\n",
    "\n"
   ]
  },
  {
   "cell_type": "code",
   "execution_count": 164,
   "id": "53c59bf9-b981-499e-804d-d3bcd50953a9",
   "metadata": {},
   "outputs": [],
   "source": [
    "#Processamento de dados\n",
    "\n",
    "valor_hora_aula = 40"
   ]
  },
  {
   "cell_type": "code",
   "execution_count": 166,
   "id": "52cf74c0-3884-49e8-b840-6d75071fc0ab",
   "metadata": {},
   "outputs": [
    {
     "name": "stdin",
     "output_type": "stream",
     "text": [
      "\n",
      "Quantas horas você trabalhou?:  44\n"
     ]
    }
   ],
   "source": [
    "horas_trabalhadas = float(input(\"\\nQuantas horas você trabalhou?: \"))"
   ]
  },
  {
   "cell_type": "code",
   "execution_count": 168,
   "id": "e6194495-1779-4fbf-8a26-db7b8a92e5ee",
   "metadata": {},
   "outputs": [],
   "source": [
    "valor_impostos = 70/100"
   ]
  },
  {
   "cell_type": "code",
   "execution_count": 227,
   "id": "009507b7-9580-49b7-846f-687e365253b0",
   "metadata": {},
   "outputs": [],
   "source": [
    "resultado_1 = salario_bruto = horas_trabalhadas * valor_hora_aula"
   ]
  },
  {
   "cell_type": "code",
   "execution_count": 211,
   "id": "ade9d23b-a66a-4479-afd5-af27f1547307",
   "metadata": {},
   "outputs": [],
   "source": [
    "resultado_2 = salario_liquido = salario_bruto * valor_impostos"
   ]
  },
  {
   "cell_type": "code",
   "execution_count": 213,
   "id": "6c633357-890f-409d-ad7d-b045cb034534",
   "metadata": {},
   "outputs": [],
   "source": [
    "resultado_3 = total_dos_descontos = salario_bruto - salario_liquido"
   ]
  },
  {
   "cell_type": "code",
   "execution_count": 234,
   "id": "5b15e682-bc4c-4acd-8c60-b1ce50536407",
   "metadata": {},
   "outputs": [
    {
     "name": "stdout",
     "output_type": "stream",
     "text": [
      "Seu salário bruto é R$ 1760.0 \n"
     ]
    }
   ],
   "source": [
    "# Saída de dados\n",
    "\n",
    "print(f\"Seu salário bruto é R$ {resultado_1} \")"
   ]
  },
  {
   "cell_type": "code",
   "execution_count": 238,
   "id": "e1aa4716-8b0e-48df-8113-1185f0663e6f",
   "metadata": {},
   "outputs": [
    {
     "name": "stdout",
     "output_type": "stream",
     "text": [
      "Seu salário liquido é R$ 1232.0\n"
     ]
    }
   ],
   "source": [
    "print(f\"Seu salário liquido é R$ {resultado_2}\")"
   ]
  },
  {
   "cell_type": "code",
   "execution_count": 244,
   "id": "017827a5-6b75-4724-8269-4047a2fc5e53",
   "metadata": {},
   "outputs": [
    {
     "name": "stdout",
     "output_type": "stream",
     "text": [
      "O total de descontos deu R$ 528.0\n"
     ]
    }
   ],
   "source": [
    "print(f\"O total de descontos deu R$ {resultado_3}\") "
   ]
  },
  {
   "cell_type": "code",
   "execution_count": null,
   "id": "d625f9c2-1f0e-4792-8f59-7a4555663f14",
   "metadata": {},
   "outputs": [],
   "source": []
  }
 ],
 "metadata": {
  "kernelspec": {
   "display_name": "Python [conda env:base] *",
   "language": "python",
   "name": "conda-base-py"
  },
  "language_info": {
   "codemirror_mode": {
    "name": "ipython",
    "version": 3
   },
   "file_extension": ".py",
   "mimetype": "text/x-python",
   "name": "python",
   "nbconvert_exporter": "python",
   "pygments_lexer": "ipython3",
   "version": "3.12.7"
  }
 },
 "nbformat": 4,
 "nbformat_minor": 5
}
